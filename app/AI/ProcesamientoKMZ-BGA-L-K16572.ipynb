{
 "cells": [
  {
   "cell_type": "code",
   "execution_count": 1,
   "metadata": {},
   "outputs": [],
   "source": [
    "from fastkml import kml\n",
    "import geopandas as gpd\n",
    "import folium\n",
    "import zipfile\n",
    "from django.shortcuts import render"
   ]
  },
  {
   "cell_type": "code",
   "execution_count": null,
   "metadata": {},
   "outputs": [],
   "source": [
    "kmz_path = 'C:\\\\Users\\\\felipe.henao\\\\OneDrive - ApplusGlobal\\\\Informacion_FH\\\\Google earth\\\\LDN_65dB(A)_26-Ene-2023.kmz'\n"
   ]
  },
  {
   "cell_type": "code",
   "execution_count": null,
   "metadata": {},
   "outputs": [],
   "source": [
    "def extract_kml_from_kmz(kmz_path):\n",
    "    with zipfile.ZipFile(kmz_path) as kmz:\n",
    "        kmz.extractall('temp_kml')\n",
    "    return 'temp_kml/doc.kml'"
   ]
  }
 ],
 "metadata": {
  "kernelspec": {
   "display_name": "Python 3",
   "language": "python",
   "name": "python3"
  },
  "language_info": {
   "codemirror_mode": {
    "name": "ipython",
    "version": 3
   },
   "file_extension": ".py",
   "mimetype": "text/x-python",
   "name": "python",
   "nbconvert_exporter": "python",
   "pygments_lexer": "ipython3",
   "version": "3.11.4"
  }
 },
 "nbformat": 4,
 "nbformat_minor": 2
}
