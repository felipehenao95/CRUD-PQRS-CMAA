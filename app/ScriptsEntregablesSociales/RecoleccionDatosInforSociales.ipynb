{
 "cells": [
  {
   "cell_type": "markdown",
   "metadata": {},
   "source": [
    "## Recolección de información necesaria para los informes sociales mensuales (Carpetas Petiones, Base de datos en excel y graficos)\n",
    "\n",
    "#### By: Ing. Felipe Henao Chona"
   ]
  },
  {
   "cell_type": "markdown",
   "metadata": {},
   "source": [
    "#### LIBRERIAS"
   ]
  },
  {
   "cell_type": "code",
   "execution_count": 18,
   "metadata": {},
   "outputs": [],
   "source": [
    "import pandas as pd\n",
    "from datetime import datetime\n",
    "import os\n",
    "import shutil\n"
   ]
  },
  {
   "cell_type": "markdown",
   "metadata": {},
   "source": [
    "### Declaracion de las variables que se van a filtrar"
   ]
  },
  {
   "cell_type": "code",
   "execution_count": 19,
   "metadata": {},
   "outputs": [],
   "source": [
    "mes='Diciembre'\n",
    "mes_num = 12\n",
    "\n",
    "df = pd.read_excel('peticionarios.xlsx')\n",
    "\n",
    "# Filtrar por el mes de julio\n",
    "df['Fecha Llegada'] = pd.to_datetime(df['Fecha Llegada'], format='%Y-%m-%d')\n",
    "df_julio = df[df['Fecha Llegada'].dt.month == mes_num]\n",
    "df_julio.to_excel(f'PQRS_{mes}.xlsx', index=False)"
   ]
  },
  {
   "cell_type": "code",
   "execution_count": 20,
   "metadata": {},
   "outputs": [],
   "source": [
    "nueva_carpeta = os.path.join(f'Peticiones {mes}')\n",
    "os.makedirs(nueva_carpeta)"
   ]
  },
  {
   "cell_type": "code",
   "execution_count": 21,
   "metadata": {},
   "outputs": [
    {
     "name": "stdout",
     "output_type": "stream",
     "text": [
      "Carpeta Anonimo_ANLA20242200952681 2024-12-06 copiada con EXITO!!!\n",
      "Carpeta Luz_Argenis_Aguirre 2024-12-18 copiada con EXITO!!!\n",
      "Carpeta Maria_Clara_Correal_Pachón 2024-12-31 copiada con EXITO!!!\n",
      "Carpeta Jacobo_Celnik 2024-12-31 copiada con EXITO!!!\n",
      "Carpeta Fernando_Vallejo_Hanssen 2024-12-31 copiada con EXITO!!!\n",
      "Carpeta Fernando_Guzmán_Vanegas 2024-12-31 copiada con EXITO!!!\n",
      "Carpeta Claudia_E._Almanza 2024-12-31 copiada con EXITO!!!\n",
      "Carpeta Claudia_E._Almanza_2 2024-12-31 copiada con EXITO!!!\n",
      "Carpeta Claudia_Marcela_Acampo_Valencia 2024-12-31 copiada con EXITO!!!\n",
      "Carpeta Anónimo_Id_4196908 2024-12-31 copiada con EXITO!!!\n",
      "Carpeta Martha_Cecilia_Cadena 2024-12-31 copiada con EXITO!!!\n",
      "Carpeta Solicitud_de_RTA's_ANLA 2024-12-31 copiada con EXITO!!!\n",
      "Carpeta Anónimo_ANLA20246201325522 2024-12-31 copiada con EXITO!!!\n",
      "Carpeta Anónimo_ANLA20246201360532 2024-12-31 copiada con EXITO!!!\n",
      "Carpeta Anonimo_ANLA20246201360582 2024-12-31 copiada con EXITO!!!\n",
      "Carpeta Anonimo_ANLA20246201360642 2024-12-31 copiada con EXITO!!!\n",
      "Carpeta Anonimo_ANLA20246201361282_(JAVIER_GUZMAN) 2023-12-31 copiada con EXITO!!!\n",
      "Carpeta Anónimo_ANLA20246201367122 2024-12-31 copiada con EXITO!!!\n",
      "Proceso completado.\n"
     ]
    }
   ],
   "source": [
    "for index, row in df_julio.iterrows():\n",
    "    carpeta_origen = row['Carpeta Documentos']  # Ruta original de la carpeta de documentos\n",
    "    nombre_carpeta = os.path.basename(carpeta_origen)  # Nombre de la carpeta de documentos\n",
    "    carpeta_destino = os.path.join(nueva_carpeta, nombre_carpeta)  # Destino en la nueva carpeta\n",
    "    \n",
    "    # Verificar si la carpeta existe\n",
    "    if os.path.exists(carpeta_origen):\n",
    "        # Copiar la carpeta y su contenido\n",
    "        shutil.copytree(carpeta_origen, carpeta_destino)\n",
    "        print(f'Carpeta {nombre_carpeta} copiada con EXITO!!!')\n",
    "    else:\n",
    "        print(f'La carpeta {nombre_carpeta} no se encontro')\n",
    "\n",
    "print('Proceso completado.')"
   ]
  },
  {
   "cell_type": "code",
   "execution_count": 22,
   "metadata": {},
   "outputs": [
    {
     "name": "stdout",
     "output_type": "stream",
     "text": [
      "Archivo RTA_Anonimo_ANLA20242200952681.docx eliminado.\n",
      "Archivo RTA_Preliminar_AnonimoANLA.docx eliminado.\n",
      "Archivo RTA_PreliminarConjunta_Anonimos.docx eliminado.\n",
      "Archivo RTA_PreliminarConjunta_Anonimos.docx eliminado.\n",
      "Archivo RTA_PreliminarConjunta_Anonimos.docx eliminado.\n",
      "Archivo RTA_Anónimo_ANLA20246201325522 2024-12-31.docx eliminado.\n",
      "Archivo RTA_PreliminarConjunta_Anonimos.docx eliminado.\n",
      "Archivo RTA_Anónimo_ANLA20246201360532 2024-12-31.docx eliminado.\n",
      "Archivo RTA_PreliminarConjunta_Anonimos.docx eliminado.\n",
      "Archivo RTA_PreliminarConjunta_Anonimos.docx eliminado.\n",
      "Archivo RTA_Anónimo_Id_4196908 2024-12-31.docx eliminado.\n",
      "Archivo RTA_Preliminar_Anonimo.docx eliminado.\n",
      "Archivo RTA_Claudia_E._Almanza 2024-12-31.docx eliminado.\n",
      "Archivo RTA_Preliminar_Claudia_E._Almanza.docx eliminado.\n",
      "Archivo RTA_Claudia_E._Almanza_2 2024-12-31.docx eliminado.\n",
      "Archivo RTA_Preliminar_Claudia_E._Almanza.docx eliminado.\n",
      "Archivo RTA_Claudia_Marcela_Acampo_Valencia 2024-12-31.docx eliminado.\n",
      "Archivo RTA_Preliminar_Claudia_Marcela_Aca_9av20p5.docx eliminado.\n",
      "Archivo RTA_Fernando_Guzmán_Vanegas 2024-12-31.docx eliminado.\n",
      "Archivo RTA_Preliminar_Fernando_Guzmán_Vanegas.docx eliminado.\n",
      "Archivo RTA_Preliminar_Fernando_Vallejo_Hanssen.docx eliminado.\n",
      "Archivo RTA_Jacobo_Celnik 2024-12-31.docx eliminado.\n",
      "Archivo RTA_Preliminar_Jacobo_Celnik.docx eliminado.\n",
      "Archivo 20241227_RTA_Luz_Argenis_Aguirre_Torres_Final.docx eliminado.\n",
      "Archivo RTA_Maria_Clara_Correal_Pachón 2024-12-31.docx eliminado.\n",
      "Archivo RTA_Preliminar_Maria_Clara_Correal_Pachón.docx eliminado.\n",
      "Archivo RTA_Martha_Cecilia_Cadena 2024-12-31.docx eliminado.\n",
      "Archivo RTA_Preliminar_Martha_Cecilia_Cadena.docx eliminado.\n",
      "Archivo RTA_PreliminarConjunta_Anonimos.docx eliminado.\n"
     ]
    }
   ],
   "source": [
    "# Eliminar los archivos que no sean PDF dentro de cada carpeta copiada\n",
    "for root, dirs, files in os.walk(nueva_carpeta):\n",
    "    for file in files:\n",
    "        # Si el archivo no es un PDF, se elimina\n",
    "        if not file.lower().endswith('.pdf'):\n",
    "            file_path = os.path.join(root, file)\n",
    "            os.remove(file_path)\n",
    "            print(f'Archivo {file} eliminado.')"
   ]
  }
 ],
 "metadata": {
  "kernelspec": {
   "display_name": "Python 3",
   "language": "python",
   "name": "python3"
  },
  "language_info": {
   "codemirror_mode": {
    "name": "ipython",
    "version": 3
   },
   "file_extension": ".py",
   "mimetype": "text/x-python",
   "name": "python",
   "nbconvert_exporter": "python",
   "pygments_lexer": "ipython3",
   "version": "3.13.1"
  }
 },
 "nbformat": 4,
 "nbformat_minor": 2
}
